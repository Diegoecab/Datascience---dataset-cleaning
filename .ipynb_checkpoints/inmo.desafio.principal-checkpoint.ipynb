{
 "cells": [
  {
   "cell_type": "markdown",
   "metadata": {},
   "source": [
    "## Desafío 1\n",
    "\n",
    "Grupo\n",
    "\n",
    "Objetivos:\n",
    "-  Efectuar una limpieza del dataset provisto. Particularmente, deberá diseñar estrategias para lidiar con los datos perdidos en ciertas variables.\n",
    "-  Realizar un análisis descriptivo de las principales variables.\n",
    "-  Crear nuevas columnas a partir de las características dadas que puedan tener valor predictivo.\n",
    "\n",
    " \n",
    "\n"
   ]
  },
  {
   "cell_type": "code",
   "execution_count": 197,
   "metadata": {
    "scrolled": true
   },
   "outputs": [
    {
     "data": {
      "text/html": [
       "<div>\n",
       "<style scoped>\n",
       "    .dataframe tbody tr th:only-of-type {\n",
       "        vertical-align: middle;\n",
       "    }\n",
       "\n",
       "    .dataframe tbody tr th {\n",
       "        vertical-align: top;\n",
       "    }\n",
       "\n",
       "    .dataframe thead th {\n",
       "        text-align: right;\n",
       "    }\n",
       "</style>\n",
       "<table border=\"1\" class=\"dataframe\">\n",
       "  <thead>\n",
       "    <tr style=\"text-align: right;\">\n",
       "      <th></th>\n",
       "      <th>Unnamed: 0</th>\n",
       "      <th>operation</th>\n",
       "      <th>property_type</th>\n",
       "      <th>place_name</th>\n",
       "      <th>place_with_parent_names</th>\n",
       "      <th>country_name</th>\n",
       "      <th>state_name</th>\n",
       "      <th>geonames_id</th>\n",
       "      <th>lat-lon</th>\n",
       "      <th>lat</th>\n",
       "      <th>...</th>\n",
       "      <th>surface_covered_in_m2</th>\n",
       "      <th>price_usd_per_m2</th>\n",
       "      <th>price_per_m2</th>\n",
       "      <th>floor</th>\n",
       "      <th>rooms</th>\n",
       "      <th>expenses</th>\n",
       "      <th>properati_url</th>\n",
       "      <th>description</th>\n",
       "      <th>title</th>\n",
       "      <th>image_thumbnail</th>\n",
       "    </tr>\n",
       "  </thead>\n",
       "  <tbody>\n",
       "    <tr>\n",
       "      <th>0</th>\n",
       "      <td>0</td>\n",
       "      <td>sell</td>\n",
       "      <td>PH</td>\n",
       "      <td>Mataderos</td>\n",
       "      <td>|Argentina|Capital Federal|Mataderos|</td>\n",
       "      <td>Argentina</td>\n",
       "      <td>Capital Federal</td>\n",
       "      <td>3430787.0</td>\n",
       "      <td>-34.6618237,-58.5088387</td>\n",
       "      <td>-34.661824</td>\n",
       "      <td>...</td>\n",
       "      <td>40.0</td>\n",
       "      <td>1127.272727</td>\n",
       "      <td>1550.0</td>\n",
       "      <td>NaN</td>\n",
       "      <td>NaN</td>\n",
       "      <td>NaN</td>\n",
       "      <td>http://www.properati.com.ar/15bo8_venta_ph_mat...</td>\n",
       "      <td>2 AMBIENTES TIPO CASA PLANTA BAJA POR PASILLO,...</td>\n",
       "      <td>2 AMB TIPO CASA SIN EXPENSAS EN PB</td>\n",
       "      <td>https://thumbs4.properati.com/8/BluUYiHJLhgIIK...</td>\n",
       "    </tr>\n",
       "    <tr>\n",
       "      <th>1</th>\n",
       "      <td>1</td>\n",
       "      <td>sell</td>\n",
       "      <td>apartment</td>\n",
       "      <td>La Plata</td>\n",
       "      <td>|Argentina|Bs.As. G.B.A. Zona Sur|La Plata|</td>\n",
       "      <td>Argentina</td>\n",
       "      <td>Bs.As. G.B.A. Zona Sur</td>\n",
       "      <td>3432039.0</td>\n",
       "      <td>-34.9038831,-57.9643295</td>\n",
       "      <td>-34.903883</td>\n",
       "      <td>...</td>\n",
       "      <td>NaN</td>\n",
       "      <td>NaN</td>\n",
       "      <td>NaN</td>\n",
       "      <td>NaN</td>\n",
       "      <td>NaN</td>\n",
       "      <td>NaN</td>\n",
       "      <td>http://www.properati.com.ar/15bob_venta_depart...</td>\n",
       "      <td>Venta de departamento en décimo piso al frente...</td>\n",
       "      <td>VENTA Depto 2 dorm. a estrenar 7 e/ 36 y 37   ...</td>\n",
       "      <td>https://thumbs4.properati.com/7/ikpVBu2ztHA7jv...</td>\n",
       "    </tr>\n",
       "  </tbody>\n",
       "</table>\n",
       "<p>2 rows × 26 columns</p>\n",
       "</div>"
      ],
      "text/plain": [
       "   Unnamed: 0 operation property_type place_name  \\\n",
       "0           0      sell            PH  Mataderos   \n",
       "1           1      sell     apartment   La Plata   \n",
       "\n",
       "                       place_with_parent_names country_name  \\\n",
       "0        |Argentina|Capital Federal|Mataderos|    Argentina   \n",
       "1  |Argentina|Bs.As. G.B.A. Zona Sur|La Plata|    Argentina   \n",
       "\n",
       "               state_name  geonames_id                  lat-lon        lat  \\\n",
       "0         Capital Federal    3430787.0  -34.6618237,-58.5088387 -34.661824   \n",
       "1  Bs.As. G.B.A. Zona Sur    3432039.0  -34.9038831,-57.9643295 -34.903883   \n",
       "\n",
       "                         ...                          surface_covered_in_m2  \\\n",
       "0                        ...                                           40.0   \n",
       "1                        ...                                            NaN   \n",
       "\n",
       "   price_usd_per_m2 price_per_m2  floor  rooms  expenses  \\\n",
       "0       1127.272727       1550.0    NaN    NaN       NaN   \n",
       "1               NaN          NaN    NaN    NaN       NaN   \n",
       "\n",
       "                                       properati_url  \\\n",
       "0  http://www.properati.com.ar/15bo8_venta_ph_mat...   \n",
       "1  http://www.properati.com.ar/15bob_venta_depart...   \n",
       "\n",
       "                                         description  \\\n",
       "0  2 AMBIENTES TIPO CASA PLANTA BAJA POR PASILLO,...   \n",
       "1  Venta de departamento en décimo piso al frente...   \n",
       "\n",
       "                                               title  \\\n",
       "0                 2 AMB TIPO CASA SIN EXPENSAS EN PB   \n",
       "1  VENTA Depto 2 dorm. a estrenar 7 e/ 36 y 37   ...   \n",
       "\n",
       "                                     image_thumbnail  \n",
       "0  https://thumbs4.properati.com/8/BluUYiHJLhgIIK...  \n",
       "1  https://thumbs4.properati.com/7/ikpVBu2ztHA7jv...  \n",
       "\n",
       "[2 rows x 26 columns]"
      ]
     },
     "execution_count": 197,
     "metadata": {},
     "output_type": "execute_result"
    }
   ],
   "source": [
    "import numpy as np\n",
    "import pandas as pd\n",
    "df = pd.read_csv('data/properatti.csv.gz', compression='gzip', header=0)\n",
    "df.head(2)\n"
   ]
  },
  {
   "cell_type": "code",
   "execution_count": 198,
   "metadata": {
    "scrolled": true
   },
   "outputs": [
    {
     "data": {
      "text/plain": [
       "Index(['Unnamed: 0', 'operation', 'property_type', 'place_name',\n",
       "       'place_with_parent_names', 'country_name', 'state_name', 'geonames_id',\n",
       "       'lat-lon', 'lat', 'lon', 'price', 'currency',\n",
       "       'price_aprox_local_currency', 'price_aprox_usd', 'surface_total_in_m2',\n",
       "       'surface_covered_in_m2', 'price_usd_per_m2', 'price_per_m2', 'floor',\n",
       "       'rooms', 'expenses', 'properati_url', 'description', 'title',\n",
       "       'image_thumbnail'],\n",
       "      dtype='object')"
      ]
     },
     "execution_count": 198,
     "metadata": {},
     "output_type": "execute_result"
    }
   ],
   "source": [
    "#Print columns\n",
    "df.columns\n"
   ]
  },
  {
   "cell_type": "code",
   "execution_count": 199,
   "metadata": {},
   "outputs": [
    {
     "name": "stdout",
     "output_type": "stream",
     "text": [
      "<class 'pandas.core.frame.DataFrame'>\n",
      "RangeIndex: 121220 entries, 0 to 121219\n",
      "Data columns (total 26 columns):\n",
      "Unnamed: 0                    121220 non-null int64\n",
      "operation                     121220 non-null object\n",
      "property_type                 121220 non-null object\n",
      "place_name                    121197 non-null object\n",
      "place_with_parent_names       121220 non-null object\n",
      "country_name                  121220 non-null object\n",
      "state_name                    121220 non-null object\n",
      "geonames_id                   102503 non-null float64\n",
      "lat-lon                       69670 non-null object\n",
      "lat                           69670 non-null float64\n",
      "lon                           69670 non-null float64\n",
      "price                         100810 non-null float64\n",
      "currency                      100809 non-null object\n",
      "price_aprox_local_currency    100810 non-null float64\n",
      "price_aprox_usd               100810 non-null float64\n",
      "surface_total_in_m2           81892 non-null float64\n",
      "surface_covered_in_m2         101313 non-null float64\n",
      "price_usd_per_m2              68617 non-null float64\n",
      "price_per_m2                  87658 non-null float64\n",
      "floor                         7899 non-null float64\n",
      "rooms                         47390 non-null float64\n",
      "expenses                      14262 non-null float64\n",
      "properati_url                 121220 non-null object\n",
      "description                   121218 non-null object\n",
      "title                         121220 non-null object\n",
      "image_thumbnail               118108 non-null object\n",
      "dtypes: float64(13), int64(1), object(12)\n",
      "memory usage: 24.0+ MB\n"
     ]
    }
   ],
   "source": [
    "#Cantidad de registros, info\n",
    "df.info()"
   ]
  },
  {
   "cell_type": "code",
   "execution_count": 200,
   "metadata": {
    "scrolled": true
   },
   "outputs": [
    {
     "data": {
      "text/plain": [
       "Unnamed: 0                         0\n",
       "operation                          0\n",
       "property_type                      0\n",
       "place_with_parent_names            0\n",
       "country_name                       0\n",
       "state_name                         0\n",
       "properati_url                      0\n",
       "title                              0\n",
       "description                        2\n",
       "place_name                        23\n",
       "image_thumbnail                 3112\n",
       "geonames_id                    18717\n",
       "surface_covered_in_m2          19907\n",
       "price                          20410\n",
       "price_aprox_local_currency     20410\n",
       "price_aprox_usd                20410\n",
       "currency                       20411\n",
       "price_per_m2                   33562\n",
       "surface_total_in_m2            39328\n",
       "lat                            51550\n",
       "lat-lon                        51550\n",
       "lon                            51550\n",
       "price_usd_per_m2               52603\n",
       "rooms                          73830\n",
       "expenses                      106958\n",
       "floor                         113321\n",
       "dtype: int64"
      ]
     },
     "execution_count": 200,
     "metadata": {},
     "output_type": "execute_result"
    }
   ],
   "source": [
    "#Valores nulos por columna\n",
    "df.isnull().sum().sort_values()"
   ]
  },
  {
   "cell_type": "markdown",
   "metadata": {},
   "source": [
    "Total registros: 121220\n",
    "\n",
    "Valores necesarios: \n",
    "\n",
    "- place_name \n",
    "\n",
    "Barrio/3 nivel de ubicacion; 1er y 2do nivel está completo (country_name/state_name). Tenemos completo -place_with_parent_names, de ahi se puede extraer el 3er nivel\n",
    "- surface_total_in_m2\n",
    "- price\n",
    "- price_per_m2\n",
    "- rooms"
   ]
  },
  {
   "cell_type": "markdown",
   "metadata": {},
   "source": [
    "# PLACE NAME"
   ]
  },
  {
   "cell_type": "code",
   "execution_count": 201,
   "metadata": {},
   "outputs": [
    {
     "data": {
      "text/plain": [
       "6489     Tigre\n",
       "10201    Tigre\n",
       "11451    Tigre\n",
       "14839    Tigre\n",
       "18622    Tigre\n",
       "21922    Tigre\n",
       "23664    Tigre\n",
       "24722    Tigre\n",
       "38856    Tigre\n",
       "45970    Tigre\n",
       "46642    Tigre\n",
       "53130    Tigre\n",
       "55306    Tigre\n",
       "57703    Tigre\n",
       "57759    Tigre\n",
       "57764    Tigre\n",
       "57793    Tigre\n",
       "58004    Tigre\n",
       "58037    Tigre\n",
       "59069    Tigre\n",
       "62411    Tigre\n",
       "62413    Tigre\n",
       "63849    Tigre\n",
       "Name: place_with_parent_names, dtype: object"
      ]
     },
     "execution_count": 201,
     "metadata": {},
     "output_type": "execute_result"
    }
   ],
   "source": [
    "\n",
    "#Verifico la 3 columna de place_with_parent_names\n",
    "df[df[\"place_name\"].isnull()][\"place_with_parent_names\"].str.split('|').str[3]\n",
    "\n"
   ]
  },
  {
   "cell_type": "code",
   "execution_count": 202,
   "metadata": {},
   "outputs": [
    {
     "data": {
      "text/plain": [
       "Córdoba                          9254\n",
       "Rosario                          8504\n",
       "Mar del Plata                    6534\n",
       "Tigre                            3324\n",
       "Nordelta                         3315\n",
       "Belgrano                         2992\n",
       "Palermo                          2885\n",
       "La Plata                         2534\n",
       "Caballito                        2273\n",
       "Pilar                            2228\n",
       "Villa Urquiza                    1632\n",
       "Olivos                           1590\n",
       "Recoleta                         1547\n",
       "Lomas de Zamora                  1529\n",
       "Flores                           1354\n",
       "Ituzaingó                        1340\n",
       "Villa Crespo                     1331\n",
       "Capital Federal                  1297\n",
       "San Telmo                        1216\n",
       "Morón                            1209\n",
       "Almagro                          1165\n",
       "Barrio Norte                     1140\n",
       "Ramos Mejía                      1127\n",
       "Martínez                         1058\n",
       "Lanús                            1048\n",
       "Escobar                          1037\n",
       "Banfield                         1007\n",
       "San Isidro                        990\n",
       "Pinamar                           932\n",
       "Boedo                             890\n",
       "                                 ... \n",
       "Vistalba                            1\n",
       "Barrio Cerrado \"La Escondida\"       1\n",
       "Venado Tuerto                       1\n",
       "El Pato Country Club                1\n",
       "El Calafate                         1\n",
       "Santa Teresa                        1\n",
       "William Morris                      1\n",
       "El Chaltén                          1\n",
       "Bernardino Rivadavia                1\n",
       "Bosques                             1\n",
       "Alfar                               1\n",
       "Los Corralitos                      1\n",
       "Chimbas                             1\n",
       "Barrio Cerrado Los Troncos          1\n",
       "Barrio Camet                        1\n",
       "Islas                               1\n",
       "María Juana                         1\n",
       "La Colina Golf & Polo               1\n",
       "Barrio Cerrado \"La Chacra\"          1\n",
       "Costa Uruguay Sur                   1\n",
       "El Canton Barrio Norte              1\n",
       "Agua Blanca                         1\n",
       "Pedro Molina                        1\n",
       "Rodeo de la Cruz                    1\n",
       "Monje                               1\n",
       "Villa Dolores                       1\n",
       "Las Chacras                         1\n",
       "Marull                              1\n",
       "Navarro                             1\n",
       "Berazategui Oeste                   1\n",
       "Name: place_name, Length: 1060, dtype: int64"
      ]
     },
     "execution_count": 202,
     "metadata": {},
     "output_type": "execute_result"
    }
   ],
   "source": [
    "df['place_name'].value_counts()"
   ]
  },
  {
   "cell_type": "code",
   "execution_count": 203,
   "metadata": {},
   "outputs": [],
   "source": [
    "#Cargo los datos faltantes de place_name, creamos una nueva columna como flag y elimino la columna place_with_parent_names\n",
    "\n",
    "df = df.assign(place_name_was_null=0)\n",
    "\n",
    "df.loc[df[\"place_name\"].isnull(),\"place_name_was_null\"] = 1;\n",
    "\n",
    "df.loc[df[\"place_name\"].isnull(),\"place_name\"] = df[\"place_with_parent_names\"].apply(lambda place_with_parent_names: place_with_parent_names.split('|')[3])\n",
    "\n",
    "df = df.drop([\"place_with_parent_names\"], axis=1)\n"
   ]
  },
  {
   "cell_type": "code",
   "execution_count": 206,
   "metadata": {},
   "outputs": [
    {
     "data": {
      "text/plain": [
       "Córdoba          9254\n",
       "Rosario          8504\n",
       "Mar del Plata    6534\n",
       "Tigre            3347\n",
       "Nordelta         3315\n",
       "Belgrano         2992\n",
       "Palermo          2885\n",
       "La Plata         2534\n",
       "Caballito        2273\n",
       "Pilar            2228\n",
       "Name: place_name, dtype: int64"
      ]
     },
     "execution_count": 206,
     "metadata": {},
     "output_type": "execute_result"
    }
   ],
   "source": [
    "df['place_name'].value_counts().head(10)"
   ]
  },
  {
   "cell_type": "code",
   "execution_count": 239,
   "metadata": {
    "scrolled": true
   },
   "outputs": [
    {
     "data": {
      "text/plain": [
       "Unnamed: 0                         0\n",
       "title                              0\n",
       "properati_url                      0\n",
       "place_name_was_null                0\n",
       "state_name                         0\n",
       "room_was_null                      0\n",
       "operation                          0\n",
       "property_type                      0\n",
       "country_name                       0\n",
       "place_name                         0\n",
       "description                        2\n",
       "image_thumbnail                 3007\n",
       "geonames_id                    18300\n",
       "surface_covered_in_m2          18995\n",
       "price_aprox_usd                19420\n",
       "price_aprox_local_currency     19420\n",
       "price                          19420\n",
       "currency                       19421\n",
       "price_per_m2                   31943\n",
       "surface_total_in_m2            38377\n",
       "lon                            48427\n",
       "lat                            48427\n",
       "lat-lon                        48427\n",
       "rooms                          49820\n",
       "price_usd_per_m2               50872\n",
       "expenses                      102814\n",
       "floor                         108478\n",
       "dtype: int64"
      ]
     },
     "execution_count": 239,
     "metadata": {},
     "output_type": "execute_result"
    }
   ],
   "source": [
    "#Valores nulos por columna\n",
    "df.isnull().sum().sort_values()"
   ]
  },
  {
   "cell_type": "code",
   "execution_count": 208,
   "metadata": {},
   "outputs": [
    {
     "data": {
      "text/plain": [
       "0    121197\n",
       "1        23\n",
       "Name: place_name_was_null, dtype: int64"
      ]
     },
     "execution_count": 208,
     "metadata": {},
     "output_type": "execute_result"
    }
   ],
   "source": [
    "df['place_name_was_null'].value_counts()"
   ]
  },
  {
   "cell_type": "markdown",
   "metadata": {},
   "source": [
    "# Rooms\n",
    "\n",
    "Para los casos donde no tenemos el valor \"rooms\", intentaremos sacar informacion de la columna descripcion. Creamos una nueva columna como flag para indicar si rooms no estaba cargado"
   ]
  },
  {
   "cell_type": "code",
   "execution_count": 209,
   "metadata": {},
   "outputs": [
    {
     "data": {
      "text/plain": [
       "3.0     12567\n",
       "2.0     12433\n",
       "4.0      7937\n",
       "1.0      7377\n",
       "5.0      3782\n",
       "6.0      1403\n",
       "7.0       770\n",
       "8.0       409\n",
       "10.0      226\n",
       "9.0       184\n",
       "11.0       72\n",
       "12.0       65\n",
       "13.0       33\n",
       "14.0       27\n",
       "15.0       26\n",
       "17.0       16\n",
       "16.0       11\n",
       "20.0       11\n",
       "22.0        8\n",
       "18.0        6\n",
       "21.0        5\n",
       "30.0        4\n",
       "25.0        4\n",
       "19.0        4\n",
       "32.0        3\n",
       "23.0        2\n",
       "24.0        1\n",
       "27.0        1\n",
       "29.0        1\n",
       "31.0        1\n",
       "28.0        1\n",
       "Name: rooms, dtype: int64"
      ]
     },
     "execution_count": 209,
     "metadata": {},
     "output_type": "execute_result"
    }
   ],
   "source": [
    "df['rooms'].value_counts()"
   ]
  },
  {
   "cell_type": "code",
   "execution_count": 210,
   "metadata": {},
   "outputs": [
    {
     "data": {
      "text/plain": [
       "1    73830\n",
       "0    47390\n",
       "Name: room_was_null, dtype: int64"
      ]
     },
     "execution_count": 210,
     "metadata": {},
     "output_type": "execute_result"
    }
   ],
   "source": [
    "df = df.assign(room_was_null=0)\n",
    "df.loc[df[\"rooms\"].isnull(),\"room_was_null\"] = 1;\n",
    "df['room_was_null'].value_counts()"
   ]
  },
  {
   "cell_type": "code",
   "execution_count": 211,
   "metadata": {},
   "outputs": [],
   "source": [
    "regexp=\"(\\d+)(\\s|())\\s([a]|[A])([m]|[M])([b]|[B]).*\"\n",
    "df.loc[df['rooms'].isnull(),'rooms'] = df.loc[(df[\"rooms\"].isnull()),\"description\"].str.lower().str.extract(regexp)[0]\n",
    "\n",
    "(df['rooms'].isnull() & (df['description'].str.lower().str.contains('mono')),'rooms')[0].value_counts()\n",
    "\n",
    "df.loc[(df['rooms'].isnull() & (df['description'].str.lower().str.contains('mono')),'rooms')[0]] = 1\n"
   ]
  },
  {
   "cell_type": "markdown",
   "metadata": {},
   "source": [
    "Aun asi quedan 49820 registros sin valor para rooms. Revisamos el valor \"surface_covered_in_m2\" para estimar los ambientes. \n",
    "surface_covered_in_m2 menor a 40mts2 - mono\n",
    "entre 40 y 60 m2 - 2 amb\n",
    "entre 60 y 80 m2 - 3 amb\n",
    "80 y 100 m2 - 4 amb\n",
    "100 y 120 - 5 amb\n"
   ]
  },
  {
   "cell_type": "code",
   "execution_count": 291,
   "metadata": {},
   "outputs": [
    {
     "ename": "IndentationError",
     "evalue": "unexpected indent (<ipython-input-291-538057fac385>, line 10)",
     "output_type": "error",
     "traceback": [
      "\u001b[0;36m  File \u001b[0;32m\"<ipython-input-291-538057fac385>\"\u001b[0;36m, line \u001b[0;32m10\u001b[0m\n\u001b[0;31m    if val <40:\u001b[0m\n\u001b[0m    ^\u001b[0m\n\u001b[0;31mIndentationError\u001b[0m\u001b[0;31m:\u001b[0m unexpected indent\n"
     ]
    }
   ],
   "source": [
    "def calcula_ambientes_xmt2 (mts):\n",
    "    \n",
    "    try:\n",
    "       val = int(mts)\n",
    "    except ValueError:\n",
    "        return np.nan; #print(\"That's not an int!. Value: \" + str(mts))\n",
    "\n",
    "    #print(str(str(mts) + str(type(mts) + \"converted to int: \"  +(val.str()))));\n",
    "    val;\n",
    "\n",
    "    if val <40:\n",
    "       return 1;\n",
    "    elif val <60:\n",
    "       return 2;\n",
    "    elif  val <80:\n",
    "       return 3;\n",
    "    elif  val <100:\n",
    "       return 4;\n",
    "    elif  val <120:\n",
    "       return 5;\n",
    "    elif  val >120:\n",
    "       return 6;\n",
    "    else:\n",
    "       return np.nan;\n",
    "  \n",
    "        "
   ]
  },
  {
   "cell_type": "code",
   "execution_count": 265,
   "metadata": {},
   "outputs": [
    {
     "data": {
      "text/plain": [
       "nan"
      ]
     },
     "execution_count": 265,
     "metadata": {},
     "output_type": "execute_result"
    }
   ],
   "source": [
    "calcula_ambientes_xmt2('NaN')"
   ]
  },
  {
   "cell_type": "code",
   "execution_count": 290,
   "metadata": {},
   "outputs": [
    {
     "data": {
      "text/plain": [
       "0         1.0\n",
       "1         NaN\n",
       "2         1.0\n",
       "3         1.0\n",
       "4         NaN\n",
       "5         NaN\n",
       "6         NaN\n",
       "7         1.0\n",
       "8         NaN\n",
       "9         1.0\n",
       "10        NaN\n",
       "11        1.0\n",
       "12        1.0\n",
       "13        1.0\n",
       "14        1.0\n",
       "15        1.0\n",
       "16        1.0\n",
       "17        1.0\n",
       "18        NaN\n",
       "19        1.0\n",
       "20        NaN\n",
       "21        1.0\n",
       "22        NaN\n",
       "23        1.0\n",
       "24        1.0\n",
       "25        1.0\n",
       "26        NaN\n",
       "27        NaN\n",
       "28        1.0\n",
       "29        1.0\n",
       "         ... \n",
       "121190    NaN\n",
       "121191    NaN\n",
       "121192    NaN\n",
       "121193    NaN\n",
       "121194    NaN\n",
       "121195    NaN\n",
       "121196    NaN\n",
       "121197    NaN\n",
       "121198    NaN\n",
       "121199    NaN\n",
       "121200    NaN\n",
       "121201    NaN\n",
       "121202    NaN\n",
       "121203    NaN\n",
       "121204    NaN\n",
       "121205    NaN\n",
       "121206    NaN\n",
       "121207    NaN\n",
       "121208    NaN\n",
       "121209    NaN\n",
       "121210    NaN\n",
       "121211    NaN\n",
       "121212    NaN\n",
       "121213    NaN\n",
       "121214    NaN\n",
       "121215    NaN\n",
       "121216    NaN\n",
       "121217    1.0\n",
       "121218    1.0\n",
       "121219    NaN\n",
       "Name: rooms, Length: 121220, dtype: float64"
      ]
     },
     "execution_count": 290,
     "metadata": {},
     "output_type": "execute_result"
    }
   ],
   "source": [
    "#df.loc[df[\"rooms\"].isnull(),\"rooms\"] = df[\"surface_covered_in_m2\"].apply(lambda surface_covered_in_m2: calcula_ambientes_xmt2(surface_covered_in_m2))\n",
    "#df[\"surface_total_in_m2\"\n",
    "#df.loc[df[\"rooms\"].isnull() & df[\"surface_covered_in_m2\"].isnull(),\"rooms\"] = df[\"rooms\"].apply(calcula_ambientes_xmt2(df[\"surface_total_in_m2\"]))\n",
    "\n",
    "#df.loc[df[\"rooms\"].isnull() & df[\"surface_covered_in_m2\"].isnull(),\"surface_total_in_m2\"] = calcula_ambientes_xmt2\n",
    "df[\"rooms\"].apply(lambda surface_covered_in_m2: calcula_ambientes_xmt2(surface_covered_in_m2))"
   ]
  },
  {
   "cell_type": "code",
   "execution_count": null,
   "metadata": {},
   "outputs": [],
   "source": []
  }
 ],
 "metadata": {
  "kernelspec": {
   "display_name": "Python 3",
   "language": "python",
   "name": "python3"
  },
  "language_info": {
   "codemirror_mode": {
    "name": "ipython",
    "version": 3
   },
   "file_extension": ".py",
   "mimetype": "text/x-python",
   "name": "python",
   "nbconvert_exporter": "python",
   "pygments_lexer": "ipython3",
   "version": "3.6.3"
  }
 },
 "nbformat": 4,
 "nbformat_minor": 2
}
