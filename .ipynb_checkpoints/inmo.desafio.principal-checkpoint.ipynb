{
 "cells": [
  {
   "cell_type": "markdown",
   "metadata": {},
   "source": [
    "## Desafío 1\n",
    "\n",
    "Grupo\n",
    "\n",
    "Objetivos:\n",
    "-  Efectuar una limpieza del dataset provisto. Particularmente, deberá diseñar estrategias para lidiar con los datos perdidos en ciertas variables.\n",
    "-  Realizar un análisis descriptivo de las principales variables.\n",
    "-  Crear nuevas columnas a partir de las características dadas que puedan tener valor predictivo.\n",
    "\n",
    " \n",
    "\n"
   ]
  },
  {
   "cell_type": "code",
   "execution_count": 102,
   "metadata": {
    "scrolled": true
   },
   "outputs": [
    {
     "data": {
      "text/html": [
       "<div>\n",
       "<style scoped>\n",
       "    .dataframe tbody tr th:only-of-type {\n",
       "        vertical-align: middle;\n",
       "    }\n",
       "\n",
       "    .dataframe tbody tr th {\n",
       "        vertical-align: top;\n",
       "    }\n",
       "\n",
       "    .dataframe thead th {\n",
       "        text-align: right;\n",
       "    }\n",
       "</style>\n",
       "<table border=\"1\" class=\"dataframe\">\n",
       "  <thead>\n",
       "    <tr style=\"text-align: right;\">\n",
       "      <th></th>\n",
       "      <th>Unnamed: 0</th>\n",
       "      <th>operation</th>\n",
       "      <th>property_type</th>\n",
       "      <th>place_name</th>\n",
       "      <th>place_with_parent_names</th>\n",
       "      <th>country_name</th>\n",
       "      <th>state_name</th>\n",
       "      <th>geonames_id</th>\n",
       "      <th>lat-lon</th>\n",
       "      <th>lat</th>\n",
       "      <th>...</th>\n",
       "      <th>surface_covered_in_m2</th>\n",
       "      <th>price_usd_per_m2</th>\n",
       "      <th>price_per_m2</th>\n",
       "      <th>floor</th>\n",
       "      <th>rooms</th>\n",
       "      <th>expenses</th>\n",
       "      <th>properati_url</th>\n",
       "      <th>description</th>\n",
       "      <th>title</th>\n",
       "      <th>image_thumbnail</th>\n",
       "    </tr>\n",
       "  </thead>\n",
       "  <tbody>\n",
       "    <tr>\n",
       "      <th>0</th>\n",
       "      <td>0</td>\n",
       "      <td>sell</td>\n",
       "      <td>PH</td>\n",
       "      <td>Mataderos</td>\n",
       "      <td>|Argentina|Capital Federal|Mataderos|</td>\n",
       "      <td>Argentina</td>\n",
       "      <td>Capital Federal</td>\n",
       "      <td>3430787.0</td>\n",
       "      <td>-34.6618237,-58.5088387</td>\n",
       "      <td>-34.661824</td>\n",
       "      <td>...</td>\n",
       "      <td>40.0</td>\n",
       "      <td>1127.272727</td>\n",
       "      <td>1550.0</td>\n",
       "      <td>NaN</td>\n",
       "      <td>NaN</td>\n",
       "      <td>NaN</td>\n",
       "      <td>http://www.properati.com.ar/15bo8_venta_ph_mat...</td>\n",
       "      <td>2 AMBIENTES TIPO CASA PLANTA BAJA POR PASILLO,...</td>\n",
       "      <td>2 AMB TIPO CASA SIN EXPENSAS EN PB</td>\n",
       "      <td>https://thumbs4.properati.com/8/BluUYiHJLhgIIK...</td>\n",
       "    </tr>\n",
       "    <tr>\n",
       "      <th>1</th>\n",
       "      <td>1</td>\n",
       "      <td>sell</td>\n",
       "      <td>apartment</td>\n",
       "      <td>La Plata</td>\n",
       "      <td>|Argentina|Bs.As. G.B.A. Zona Sur|La Plata|</td>\n",
       "      <td>Argentina</td>\n",
       "      <td>Bs.As. G.B.A. Zona Sur</td>\n",
       "      <td>3432039.0</td>\n",
       "      <td>-34.9038831,-57.9643295</td>\n",
       "      <td>-34.903883</td>\n",
       "      <td>...</td>\n",
       "      <td>NaN</td>\n",
       "      <td>NaN</td>\n",
       "      <td>NaN</td>\n",
       "      <td>NaN</td>\n",
       "      <td>NaN</td>\n",
       "      <td>NaN</td>\n",
       "      <td>http://www.properati.com.ar/15bob_venta_depart...</td>\n",
       "      <td>Venta de departamento en décimo piso al frente...</td>\n",
       "      <td>VENTA Depto 2 dorm. a estrenar 7 e/ 36 y 37   ...</td>\n",
       "      <td>https://thumbs4.properati.com/7/ikpVBu2ztHA7jv...</td>\n",
       "    </tr>\n",
       "  </tbody>\n",
       "</table>\n",
       "<p>2 rows × 26 columns</p>\n",
       "</div>"
      ],
      "text/plain": [
       "   Unnamed: 0 operation property_type place_name  \\\n",
       "0           0      sell            PH  Mataderos   \n",
       "1           1      sell     apartment   La Plata   \n",
       "\n",
       "                       place_with_parent_names country_name  \\\n",
       "0        |Argentina|Capital Federal|Mataderos|    Argentina   \n",
       "1  |Argentina|Bs.As. G.B.A. Zona Sur|La Plata|    Argentina   \n",
       "\n",
       "               state_name  geonames_id                  lat-lon        lat  \\\n",
       "0         Capital Federal    3430787.0  -34.6618237,-58.5088387 -34.661824   \n",
       "1  Bs.As. G.B.A. Zona Sur    3432039.0  -34.9038831,-57.9643295 -34.903883   \n",
       "\n",
       "                         ...                          surface_covered_in_m2  \\\n",
       "0                        ...                                           40.0   \n",
       "1                        ...                                            NaN   \n",
       "\n",
       "   price_usd_per_m2 price_per_m2  floor  rooms  expenses  \\\n",
       "0       1127.272727       1550.0    NaN    NaN       NaN   \n",
       "1               NaN          NaN    NaN    NaN       NaN   \n",
       "\n",
       "                                       properati_url  \\\n",
       "0  http://www.properati.com.ar/15bo8_venta_ph_mat...   \n",
       "1  http://www.properati.com.ar/15bob_venta_depart...   \n",
       "\n",
       "                                         description  \\\n",
       "0  2 AMBIENTES TIPO CASA PLANTA BAJA POR PASILLO,...   \n",
       "1  Venta de departamento en décimo piso al frente...   \n",
       "\n",
       "                                               title  \\\n",
       "0                 2 AMB TIPO CASA SIN EXPENSAS EN PB   \n",
       "1  VENTA Depto 2 dorm. a estrenar 7 e/ 36 y 37   ...   \n",
       "\n",
       "                                     image_thumbnail  \n",
       "0  https://thumbs4.properati.com/8/BluUYiHJLhgIIK...  \n",
       "1  https://thumbs4.properati.com/7/ikpVBu2ztHA7jv...  \n",
       "\n",
       "[2 rows x 26 columns]"
      ]
     },
     "execution_count": 102,
     "metadata": {},
     "output_type": "execute_result"
    }
   ],
   "source": [
    "\n",
    "import pandas as pd\n",
    "df = pd.read_csv('data/properatti.csv.gz', compression='gzip', header=0)\n",
    "df.head(2)\n"
   ]
  },
  {
   "cell_type": "code",
   "execution_count": 105,
   "metadata": {
    "scrolled": true
   },
   "outputs": [
    {
     "data": {
      "text/plain": [
       "Index(['Unnamed: 0', 'operation', 'property_type', 'place_name',\n",
       "       'place_with_parent_names', 'country_name', 'state_name', 'geonames_id',\n",
       "       'lat-lon', 'lat', 'lon', 'price', 'currency',\n",
       "       'price_aprox_local_currency', 'price_aprox_usd', 'surface_total_in_m2',\n",
       "       'surface_covered_in_m2', 'price_usd_per_m2', 'price_per_m2', 'floor',\n",
       "       'rooms', 'expenses', 'properati_url', 'description', 'title',\n",
       "       'image_thumbnail'],\n",
       "      dtype='object')"
      ]
     },
     "execution_count": 105,
     "metadata": {},
     "output_type": "execute_result"
    }
   ],
   "source": [
    "#Print columns\n",
    "df.columns\n"
   ]
  },
  {
   "cell_type": "code",
   "execution_count": 104,
   "metadata": {},
   "outputs": [
    {
     "name": "stdout",
     "output_type": "stream",
     "text": [
      "<class 'pandas.core.frame.DataFrame'>\n",
      "RangeIndex: 121220 entries, 0 to 121219\n",
      "Data columns (total 26 columns):\n",
      "Unnamed: 0                    121220 non-null int64\n",
      "operation                     121220 non-null object\n",
      "property_type                 121220 non-null object\n",
      "place_name                    121197 non-null object\n",
      "place_with_parent_names       121220 non-null object\n",
      "country_name                  121220 non-null object\n",
      "state_name                    121220 non-null object\n",
      "geonames_id                   102503 non-null float64\n",
      "lat-lon                       69670 non-null object\n",
      "lat                           69670 non-null float64\n",
      "lon                           69670 non-null float64\n",
      "price                         100810 non-null float64\n",
      "currency                      100809 non-null object\n",
      "price_aprox_local_currency    100810 non-null float64\n",
      "price_aprox_usd               100810 non-null float64\n",
      "surface_total_in_m2           81892 non-null float64\n",
      "surface_covered_in_m2         101313 non-null float64\n",
      "price_usd_per_m2              68617 non-null float64\n",
      "price_per_m2                  87658 non-null float64\n",
      "floor                         7899 non-null float64\n",
      "rooms                         47390 non-null float64\n",
      "expenses                      14262 non-null float64\n",
      "properati_url                 121220 non-null object\n",
      "description                   121218 non-null object\n",
      "title                         121220 non-null object\n",
      "image_thumbnail               118108 non-null object\n",
      "dtypes: float64(13), int64(1), object(12)\n",
      "memory usage: 24.0+ MB\n"
     ]
    }
   ],
   "source": [
    "#Cantidad de registros, info\n",
    "df.info()"
   ]
  },
  {
   "cell_type": "code",
   "execution_count": 106,
   "metadata": {
    "scrolled": true
   },
   "outputs": [
    {
     "data": {
      "text/plain": [
       "Unnamed: 0                         0\n",
       "operation                          0\n",
       "property_type                      0\n",
       "place_with_parent_names            0\n",
       "country_name                       0\n",
       "state_name                         0\n",
       "properati_url                      0\n",
       "title                              0\n",
       "description                        2\n",
       "place_name                        23\n",
       "image_thumbnail                 3112\n",
       "geonames_id                    18717\n",
       "surface_covered_in_m2          19907\n",
       "price                          20410\n",
       "price_aprox_local_currency     20410\n",
       "price_aprox_usd                20410\n",
       "currency                       20411\n",
       "price_per_m2                   33562\n",
       "surface_total_in_m2            39328\n",
       "lat                            51550\n",
       "lat-lon                        51550\n",
       "lon                            51550\n",
       "price_usd_per_m2               52603\n",
       "rooms                          73830\n",
       "expenses                      106958\n",
       "floor                         113321\n",
       "dtype: int64"
      ]
     },
     "execution_count": 106,
     "metadata": {},
     "output_type": "execute_result"
    }
   ],
   "source": [
    "#Valores nulos por columna\n",
    "df.isnull().sum().sort_values()"
   ]
  },
  {
   "cell_type": "markdown",
   "metadata": {},
   "source": [
    "Total registros: 121220\n",
    "\n",
    "Valores necesarios: \n",
    "\n",
    "- place_name \n",
    "\n",
    "Barrio/3 nivel de ubicacion; 1er y 2do nivel está completo (country_name/state_name). Tenemos completo -place_with_parent_names, de ahi se puede extraer el 3er nivel\n",
    "- surface_total_in_m2\n",
    "- price\n",
    "- price_per_m2\n",
    "- rooms"
   ]
  },
  {
   "cell_type": "code",
   "execution_count": 107,
   "metadata": {},
   "outputs": [
    {
     "data": {
      "text/plain": [
       "6489     Tigre\n",
       "10201    Tigre\n",
       "11451    Tigre\n",
       "14839    Tigre\n",
       "18622    Tigre\n",
       "21922    Tigre\n",
       "23664    Tigre\n",
       "24722    Tigre\n",
       "38856    Tigre\n",
       "45970    Tigre\n",
       "46642    Tigre\n",
       "53130    Tigre\n",
       "55306    Tigre\n",
       "57703    Tigre\n",
       "57759    Tigre\n",
       "57764    Tigre\n",
       "57793    Tigre\n",
       "58004    Tigre\n",
       "58037    Tigre\n",
       "59069    Tigre\n",
       "62411    Tigre\n",
       "62413    Tigre\n",
       "63849    Tigre\n",
       "Name: place_with_parent_names, dtype: object"
      ]
     },
     "execution_count": 107,
     "metadata": {},
     "output_type": "execute_result"
    }
   ],
   "source": [
    "\n",
    "#Verifico la 3 columna de place_with_parent_names\n",
    "df[df[\"place_name\"].isnull()][\"place_with_parent_names\"].str.split('|').str[3]\n",
    "\n",
    "#df['place_name'] = df[\"place_with_parent_names\"].apply(lambda place_with_parent_names: place_with_parent_names.split('|').str[3])\n",
    "\n",
    "#df['place_name'] = dataframe['place_with_parent_names'].apply(lambda place: '|'.join(place.split('|')[1:NIVEL_UBICACION + 1]))\n",
    "\n",
    "# Eliminamos la columna place_with_parent_names\n",
    "#dataframe = dataframe.drop('place_with_parent_names', axis=1)\n",
    "\n"
   ]
  },
  {
   "cell_type": "code",
   "execution_count": 108,
   "metadata": {},
   "outputs": [
    {
     "data": {
      "text/plain": [
       "Córdoba                          9254\n",
       "Rosario                          8504\n",
       "Mar del Plata                    6534\n",
       "Tigre                            3324\n",
       "Nordelta                         3315\n",
       "Belgrano                         2992\n",
       "Palermo                          2885\n",
       "La Plata                         2534\n",
       "Caballito                        2273\n",
       "Pilar                            2228\n",
       "Villa Urquiza                    1632\n",
       "Olivos                           1590\n",
       "Recoleta                         1547\n",
       "Lomas de Zamora                  1529\n",
       "Flores                           1354\n",
       "Ituzaingó                        1340\n",
       "Villa Crespo                     1331\n",
       "Capital Federal                  1297\n",
       "San Telmo                        1216\n",
       "Morón                            1209\n",
       "Almagro                          1165\n",
       "Barrio Norte                     1140\n",
       "Ramos Mejía                      1127\n",
       "Martínez                         1058\n",
       "Lanús                            1048\n",
       "Escobar                          1037\n",
       "Banfield                         1007\n",
       "San Isidro                        990\n",
       "Pinamar                           932\n",
       "Boedo                             890\n",
       "                                 ... \n",
       "Vistalba                            1\n",
       "Barrio Cerrado \"La Escondida\"       1\n",
       "Venado Tuerto                       1\n",
       "El Pato Country Club                1\n",
       "El Calafate                         1\n",
       "Santa Teresa                        1\n",
       "William Morris                      1\n",
       "El Chaltén                          1\n",
       "Bernardino Rivadavia                1\n",
       "Bosques                             1\n",
       "Alfar                               1\n",
       "Los Corralitos                      1\n",
       "Chimbas                             1\n",
       "Barrio Cerrado Los Troncos          1\n",
       "Barrio Camet                        1\n",
       "Islas                               1\n",
       "María Juana                         1\n",
       "La Colina Golf & Polo               1\n",
       "Barrio Cerrado \"La Chacra\"          1\n",
       "Costa Uruguay Sur                   1\n",
       "El Canton Barrio Norte              1\n",
       "Agua Blanca                         1\n",
       "Pedro Molina                        1\n",
       "Rodeo de la Cruz                    1\n",
       "Monje                               1\n",
       "Villa Dolores                       1\n",
       "Las Chacras                         1\n",
       "Marull                              1\n",
       "Navarro                             1\n",
       "Berazategui Oeste                   1\n",
       "Name: place_name, Length: 1060, dtype: int64"
      ]
     },
     "execution_count": 108,
     "metadata": {},
     "output_type": "execute_result"
    }
   ],
   "source": [
    "df['place_name'].value_counts()"
   ]
  },
  {
   "cell_type": "code",
   "execution_count": 109,
   "metadata": {},
   "outputs": [],
   "source": [
    "#Cargo los datos faltantes de place_name, creamos una nueva columna como flag y elimino la columna place_with_parent_names\n",
    "\n",
    "df = df.assign(place_name_was_null=0)\n",
    "\n",
    "df.loc[df[\"place_name\"].isnull(),\"place_name_was_null\"] = 1;\n",
    "\n",
    "df.loc[df[\"place_name\"].isnull(),\"place_name\"] = df[\"place_with_parent_names\"].apply(lambda place_with_parent_names: place_with_parent_names.split('|')[3])\n",
    "\n",
    "df = df.drop([\"place_with_parent_names\"], axis=1)\n"
   ]
  },
  {
   "cell_type": "code",
   "execution_count": 112,
   "metadata": {},
   "outputs": [
    {
     "data": {
      "text/plain": [
       "Córdoba          9254\n",
       "Rosario          8504\n",
       "Mar del Plata    6534\n",
       "Tigre            3347\n",
       "Nordelta         3315\n",
       "Belgrano         2992\n",
       "Palermo          2885\n",
       "La Plata         2534\n",
       "Caballito        2273\n",
       "Pilar            2228\n",
       "Name: place_name, dtype: int64"
      ]
     },
     "execution_count": 112,
     "metadata": {},
     "output_type": "execute_result"
    }
   ],
   "source": [
    "df['place_name'].value_counts().head(10)"
   ]
  },
  {
   "cell_type": "code",
   "execution_count": 111,
   "metadata": {
    "scrolled": true
   },
   "outputs": [
    {
     "data": {
      "text/plain": [
       "Unnamed: 0                         0\n",
       "title                              0\n",
       "properati_url                      0\n",
       "state_name                         0\n",
       "place_name_was_null                0\n",
       "place_name                         0\n",
       "operation                          0\n",
       "property_type                      0\n",
       "country_name                       0\n",
       "description                        2\n",
       "image_thumbnail                 3112\n",
       "geonames_id                    18717\n",
       "surface_covered_in_m2          19907\n",
       "price_aprox_usd                20410\n",
       "price                          20410\n",
       "price_aprox_local_currency     20410\n",
       "currency                       20411\n",
       "price_per_m2                   33562\n",
       "surface_total_in_m2            39328\n",
       "lon                            51550\n",
       "lat                            51550\n",
       "lat-lon                        51550\n",
       "price_usd_per_m2               52603\n",
       "rooms                          73830\n",
       "expenses                      106958\n",
       "floor                         113321\n",
       "dtype: int64"
      ]
     },
     "execution_count": 111,
     "metadata": {},
     "output_type": "execute_result"
    }
   ],
   "source": [
    "#Valores nulos por columna\n",
    "df.isnull().sum().sort_values()"
   ]
  },
  {
   "cell_type": "code",
   "execution_count": 113,
   "metadata": {},
   "outputs": [
    {
     "data": {
      "text/plain": [
       "0    121197\n",
       "1        23\n",
       "Name: place_name_was_null, dtype: int64"
      ]
     },
     "execution_count": 113,
     "metadata": {},
     "output_type": "execute_result"
    }
   ],
   "source": [
    "df['place_name_was_null'].value_counts()"
   ]
  },
  {
   "cell_type": "code",
   "execution_count": 115,
   "metadata": {},
   "outputs": [
    {
     "data": {
      "text/plain": [
       "count    8.765800e+04\n",
       "mean     6.912216e+03\n",
       "std      2.837864e+04\n",
       "min      1.510204e+00\n",
       "25%      1.550000e+03\n",
       "50%      2.213115e+03\n",
       "75%      3.355549e+03\n",
       "max      4.000000e+06\n",
       "Name: price_per_m2, dtype: float64"
      ]
     },
     "execution_count": 115,
     "metadata": {},
     "output_type": "execute_result"
    }
   ],
   "source": [
    "df['price_per_m2'].describe()"
   ]
  },
  {
   "cell_type": "code",
   "execution_count": null,
   "metadata": {},
   "outputs": [],
   "source": []
  }
 ],
 "metadata": {
  "kernelspec": {
   "display_name": "Python 3",
   "language": "python",
   "name": "python3"
  },
  "language_info": {
   "codemirror_mode": {
    "name": "ipython",
    "version": 3
   },
   "file_extension": ".py",
   "mimetype": "text/x-python",
   "name": "python",
   "nbconvert_exporter": "python",
   "pygments_lexer": "ipython3",
   "version": "3.6.3"
  }
 },
 "nbformat": 4,
 "nbformat_minor": 2
}
