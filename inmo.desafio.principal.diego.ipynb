{
 "cells": [
  {
   "cell_type": "markdown",
   "metadata": {},
   "source": [
    "## Desafío 1\n",
    "\n",
    "#### Grupo\n",
    " Juan Manuel, Rafael, Diego Cabrera\n",
    "#### Objetivos:\n",
    "-  Efectuar una limpieza del dataset provisto. Particularmente, deberá diseñar estrategias para lidiar con los datos perdidos en ciertas variables.\n",
    "-  Realizar un análisis descriptivo de las principales variables.\n",
    "-  Crear nuevas columnas a partir de las características dadas que puedan tener valor predictivo.\n",
    "\n",
    " \n",
    "\n"
   ]
  },
  {
   "cell_type": "code",
   "execution_count": 2,
   "metadata": {
    "scrolled": true
   },
   "outputs": [],
   "source": [
    "import numpy as np\n",
    "import pandas as pd\n",
    "df = pd.read_csv('data/properatti.csv.gz', compression='gzip', header=0)\n"
   ]
  },
  {
   "cell_type": "markdown",
   "metadata": {},
   "source": [
    "####  Limpieza del dataset\n",
    "   - a. Listado de columnas a eliminar. Armar funcion\n",
    "   - b. Si hiciera falta, renombrar columnas para que sean mas representativas \n",
    "   \n",
    "####  Analisis descriptivo\n",
    "   - a. \n",
    "####  Nuevas columnas y valores predictivos\n",
    "   - a. Armar fnc para crear automaticamente columnas para usar de flag para saber si se tocan datos\n",
    "   - b."
   ]
  },
  {
   "cell_type": "code",
   "execution_count": 17,
   "metadata": {
    "scrolled": true
   },
   "outputs": [
    {
     "data": {
      "text/plain": [
       "['operation',\n",
       " 'property_type',\n",
       " 'place',\n",
       " 'country_name',\n",
       " 'state_name',\n",
       " 'geonames_id',\n",
       " 'price',\n",
       " 'surface_total_in_m2',\n",
       " 'surface_covered_in_m2',\n",
       " 'price_usd_per_m2',\n",
       " 'floor',\n",
       " 'rooms',\n",
       " 'expenses',\n",
       " 'description',\n",
       " 'price_flag',\n",
       " 'rooms_flag',\n",
       " 'place_flag']"
      ]
     },
     "execution_count": 17,
     "metadata": {},
     "output_type": "execute_result"
    }
   ],
   "source": [
    "#Print columns\n",
    "list(df)"
   ]
  },
  {
   "cell_type": "code",
   "execution_count": 4,
   "metadata": {
    "scrolled": true
   },
   "outputs": [],
   "source": [
    "#FUNCIONES \n",
    "\n",
    "#1. Elimina columnas\n",
    "\n",
    "def drop_columns(df, serie):\n",
    "    #print ('Eliminando columna/s ' + serie )\n",
    "    df = df.drop(columns=serie,axis=1)\n",
    "    return df\n",
    "    \n",
    "def make_flags(df, cols):\n",
    "    col = {c: [add_flag(df, str(c))]\n",
    "            for c in cols}\n",
    "\n",
    "def rename_columns(df, cols):\n",
    "    df = df.rename(cols, axis='columns')\n",
    "    return df\n",
    "\n",
    "def add_flag(df, column): \n",
    "       # Creamos el nombre de la columna FLAG\n",
    "    new_col = column + '_flag'\n",
    "    # Creamos la columna con los valor 1 si la columna original tiene el registro null; sino, valor 0\n",
    "    df[new_col] = df[column].isnull().astype(np.int8)\n",
    "    print ('Columna ' + new_col +' creada' )\n",
    "    \n",
    "    # Asignamos 0 a los registros que son null\n",
    "    #df.loc[df[col_name].isnull(),col_name] = value\n",
    "  \n",
    "   \n",
    "    "
   ]
  },
  {
   "cell_type": "code",
   "execution_count": 5,
   "metadata": {},
   "outputs": [],
   "source": [
    "# Variables GLobals\n",
    "#Columnas a eliminar:\n",
    "    #price, price_aprox_local_currency y currency: Tomamos en cuenta solo el valor en dolares (columna price_aprox_usd)\n",
    "    #price_per_m2: Tomamos en cuenta solo el valor de price_usd_per_m2\n",
    "COLUMNAS_A_ELIMINAR=[\"Unnamed: 0\",\"lat-lon\",\"lat\",\"lon\",\"currency\",\"price_per_m2\",\"price_aprox_local_currency\",\"price\",\"properati_url\",\"title\",\"image_thumbnail\"];\n",
    "#Columnas en las que llenaremos datos faltantes. ENtonces, creamos  columna que usaremos de flag para registrar los datos que tocamos\n",
    "COLUMNAS_FLAG=['price','rooms','place']\n",
    "#COlumnas a renombrar\n",
    "COLUMNAS_A_RENOMBRAR={'price_aprox_usd':'price','place_name':'place','price_usd_per_m2':'price_per_m2'}"
   ]
  },
  {
   "cell_type": "code",
   "execution_count": 6,
   "metadata": {},
   "outputs": [],
   "source": [
    "#Elimino columnas\n",
    "df = drop_columns(df, COLUMNAS_A_ELIMINAR)\n",
    "#Renombro columnas\n",
    "df = rename_columns(df, COLUMNAS_A_RENOMBRAR)\n"
   ]
  },
  {
   "cell_type": "code",
   "execution_count": 7,
   "metadata": {
    "scrolled": false
   },
   "outputs": [
    {
     "name": "stdout",
     "output_type": "stream",
     "text": [
      "Columna price_flag creada\n",
      "Columna rooms_flag creada\n",
      "Columna place_flag creada\n"
     ]
    }
   ],
   "source": [
    "#Creo nuevas columnas \"flag\"\n",
    "make_flags(df,COLUMNAS_FLAG)"
   ]
  },
  {
   "cell_type": "code",
   "execution_count": 8,
   "metadata": {
    "scrolled": true
   },
   "outputs": [
    {
     "data": {
      "text/plain": [
       "operation                       0\n",
       "price_flag                      0\n",
       "rooms_flag                      0\n",
       "state_name                      0\n",
       "place_flag                      0\n",
       "place_with_parent_names         0\n",
       "property_type                   0\n",
       "country_name                    0\n",
       "description                     2\n",
       "place                          23\n",
       "geonames_id                 18717\n",
       "surface_covered_in_m2       19907\n",
       "price                       20410\n",
       "surface_total_in_m2         39328\n",
       "price_usd_per_m2            52603\n",
       "rooms                       73830\n",
       "expenses                   106958\n",
       "floor                      113321\n",
       "dtype: int64"
      ]
     },
     "execution_count": 8,
     "metadata": {},
     "output_type": "execute_result"
    }
   ],
   "source": [
    "#Valores nulos por columna\n",
    "df.isnull().sum().sort_values()"
   ]
  },
  {
   "cell_type": "markdown",
   "metadata": {},
   "source": [
    "Total registros: 121220\n",
    "\n",
    "Valores necesarios: \n",
    "\n",
    "- place_name \n",
    "\n",
    "Barrio/3 nivel de ubicacion; 1er y 2do nivel está completo (country_name/state_name). Tenemos completo -place_with_parent_names, de ahi se puede extraer el 3er nivel\n",
    "- surface_total_in_m2\n",
    "- price\n",
    "- price_per_m2\n",
    "- rooms"
   ]
  },
  {
   "cell_type": "markdown",
   "metadata": {},
   "source": [
    "# PLACE NAME"
   ]
  },
  {
   "cell_type": "code",
   "execution_count": 9,
   "metadata": {},
   "outputs": [
    {
     "data": {
      "text/plain": [
       "False    121197\n",
       "True         23\n",
       "Name: place, dtype: int64"
      ]
     },
     "execution_count": 9,
     "metadata": {},
     "output_type": "execute_result"
    }
   ],
   "source": [
    "df[\"place\"].isnull().value_counts()"
   ]
  },
  {
   "cell_type": "code",
   "execution_count": 10,
   "metadata": {},
   "outputs": [
    {
     "data": {
      "text/plain": [
       "Tigre    23\n",
       "Name: place_with_parent_names, dtype: int64"
      ]
     },
     "execution_count": 10,
     "metadata": {},
     "output_type": "execute_result"
    }
   ],
   "source": [
    "\n",
    "#Verifico la 3 columna de place_with_parent_names\n",
    "df[df[\"place\"].isnull()][\"place_with_parent_names\"].str.split('|').str[3].value_counts()\n",
    "\n"
   ]
  },
  {
   "cell_type": "code",
   "execution_count": 11,
   "metadata": {},
   "outputs": [],
   "source": [
    "#Cargo los datos de place_name y elimino la columna place_with_parent_names\n",
    "df[\"place\"] = df[\"place_with_parent_names\"].apply(lambda place_with_parent_names: place_with_parent_names.split('|')[3] if (place_with_parent_names.split('|')[3]) else (place_with_parent_names.split('|')[2]))\n",
    "\n",
    "#Elimino place_with_parent_names\n",
    "df = drop_columns(df, \"place_with_parent_names\")"
   ]
  },
  {
   "cell_type": "code",
   "execution_count": 12,
   "metadata": {},
   "outputs": [
    {
     "data": {
      "text/plain": [
       "Córdoba            9254\n",
       "Tigre              8983\n",
       "Rosario            8504\n",
       "Mar del Plata      7710\n",
       "Palermo            4083\n",
       "Vicente López      3663\n",
       "Lomas de Zamora    3470\n",
       "La Plata           3360\n",
       "Pilar              3252\n",
       "San Isidro         3009\n",
       "Name: place, dtype: int64"
      ]
     },
     "execution_count": 12,
     "metadata": {},
     "output_type": "execute_result"
    }
   ],
   "source": [
    "df['place'].value_counts().head(10)"
   ]
  },
  {
   "cell_type": "code",
   "execution_count": 16,
   "metadata": {
    "scrolled": true
   },
   "outputs": [
    {
     "data": {
      "text/plain": [
       "operation                     0\n",
       "price_flag                    0\n",
       "rooms_flag                    0\n",
       "state_name                    0\n",
       "place_flag                    0\n",
       "place                         0\n",
       "property_type                 0\n",
       "country_name                  0\n",
       "description                   2\n",
       "geonames_id               18717\n",
       "surface_covered_in_m2     19907\n",
       "price                     20410\n",
       "rooms                     30792\n",
       "surface_total_in_m2       39328\n",
       "price_usd_per_m2          52603\n",
       "expenses                 106958\n",
       "floor                    113321\n",
       "dtype: int64"
      ]
     },
     "execution_count": 16,
     "metadata": {},
     "output_type": "execute_result"
    }
   ],
   "source": [
    "#Valores nulos por columna\n",
    "df.isnull().sum().sort_values()"
   ]
  },
  {
   "cell_type": "code",
   "execution_count": 14,
   "metadata": {},
   "outputs": [
    {
     "data": {
      "text/plain": [
       "0    121197\n",
       "1        23\n",
       "Name: place_flag, dtype: int64"
      ]
     },
     "execution_count": 14,
     "metadata": {},
     "output_type": "execute_result"
    }
   ],
   "source": [
    "df['place_flag'].value_counts()"
   ]
  },
  {
   "cell_type": "markdown",
   "metadata": {},
   "source": [
    "# Rooms\n",
    "\n",
    "Para los casos donde no tenemos el valor \"rooms\", intentaremos sacar informacion de la columna descripcion. Creamos una nueva columna como flag para indicar si rooms no estaba cargado"
   ]
  },
  {
   "cell_type": "code",
   "execution_count": 15,
   "metadata": {},
   "outputs": [],
   "source": [
    "regexp=\"(\\d+)(\\s|())amb\"\n",
    "#Rooms null y en description aparece N amb*, pongo N como valor en rooms\n",
    "df.loc[df['rooms'].isnull(),'rooms'] = df.loc[(df[\"rooms\"].isnull()),\"description\"].str.lower().str.extract(regexp)[0]\n",
    "\n",
    "#en la descripcion aparece \"monoambiente\" o \"mono\" y rooms es null, pongo 1\n",
    "df.loc[((df['rooms'].isnull()) & (df['description'].str.lower().str.contains('monoambiente')) | df['description'].str.lower().str.contains('mono')),'rooms'] = 1\n",
    "#x Dormitorios\n",
    "regexp=\"(\\d+)(\\s|())dorm\"\n",
    "df.loc[df['rooms'].isnull(),'rooms'] = df.loc[(df[\"rooms\"].isnull()),\"description\"].str.lower().str.extract(regexp)[0]\n",
    "\n",
    "# no especifica cantidad de dormitorios:\n",
    "regexp=\"(\\s|())dorm\"\n",
    "\n"
   ]
  },
  {
   "cell_type": "markdown",
   "metadata": {},
   "source": [
    "Aun asi quedan 30715 registros sin valor para rooms. Revisamos el valor \"surface_covered_in_m2\" para estimar los ambientes. \n",
    "surface_covered_in_m2 menor a 40mts2 - mono\n",
    "entre 40 y 60 m2 - 2 amb\n",
    "entre 60 y 80 m2 - 3 amb\n",
    "80 y 100 m2 - 4 amb\n",
    "100 y 120 - 5 amb\n"
   ]
  },
  {
   "cell_type": "code",
   "execution_count": null,
   "metadata": {},
   "outputs": [],
   "source": [
    "def calcula_ambientes_xmt2 (mts):\n",
    "    \n",
    "    try:\n",
    "       val = int(mts)\n",
    "    except ValueError:\n",
    "        return np.nan; #print(\"That's not an int!. Value: \" + str(mts))\n",
    "\n",
    "    #print(str(str(mts) + str(type(mts) + \"converted to int: \"  +(val.str()))));\n",
    "    val;\n",
    "\n",
    "    if val <40:\n",
    "       print(\"1\");\n",
    "       return 1;\n",
    "    elif val <60:\n",
    "       print(\"2\");\n",
    "       return 2;\n",
    "    elif  val <80:\n",
    "       print(\"3\");\n",
    "       return 3;\n",
    "    elif  val <100:\n",
    "       print(\"4\");\n",
    "       return 4;\n",
    "    elif  val <120:\n",
    "       print(\"5\");\n",
    "       return 5;\n",
    "    elif  val >120:\n",
    "       print(\"6\");\n",
    "       return 6;\n",
    "    else:\n",
    "       return np.nan;\n",
    "  \n",
    "        "
   ]
  },
  {
   "cell_type": "code",
   "execution_count": null,
   "metadata": {},
   "outputs": [],
   "source": [
    "df['description'][1086]#1\n"
   ]
  },
  {
   "cell_type": "code",
   "execution_count": null,
   "metadata": {},
   "outputs": [],
   "source": [
    "\n",
    "df.loc[df[\"rooms\"].isnull() & df[\"surface_covered_in_m2\"].isnull(),\"rooms\"] = df[\"surface_total_in_m2\"].apply(lambda surface_total_in_m2: calcula_ambientes_xmt2(surface_total_in_m2))\n"
   ]
  },
  {
   "cell_type": "code",
   "execution_count": null,
   "metadata": {},
   "outputs": [],
   "source": [
    "df[\"description\"][9]"
   ]
  },
  {
   "cell_type": "markdown",
   "metadata": {},
   "source": [
    "# Price"
   ]
  },
  {
   "cell_type": "markdown",
   "metadata": {},
   "source": [
    "1. Price null pero tengo surface_in_m2 y price_per_m2 entonces calculo precio\n",
    "2. Calculo precio promedio por place\n",
    "3. Si no tengo price ni price_per_m2 pero si surface_in_m2, entonces calculo price en base al promedio por place\n"
   ]
  },
  {
   "cell_type": "code",
   "execution_count": null,
   "metadata": {},
   "outputs": [],
   "source": [
    "df.loc[df['rooms'].isnull(),'rooms'] = df.loc[(df[\"rooms\"].isnull()),\"description\"].str.lower().str.extract(regexp)[0]\n"
   ]
  }
 ],
 "metadata": {
  "kernelspec": {
   "display_name": "Python 2",
   "language": "python",
   "name": "python2"
  },
  "language_info": {
   "codemirror_mode": {
    "name": "ipython",
    "version": 2
   },
   "file_extension": ".py",
   "mimetype": "text/x-python",
   "name": "python",
   "nbconvert_exporter": "python",
   "pygments_lexer": "ipython2",
   "version": "2.7.15rc1"
  }
 },
 "nbformat": 4,
 "nbformat_minor": 2
}
